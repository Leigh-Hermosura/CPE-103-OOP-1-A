{
  "nbformat": 4,
  "nbformat_minor": 0,
  "metadata": {
    "colab": {
      "provenance": [],
      "authorship_tag": "ABX9TyPSxQnB4B/KjT6MaMPCmK4Z",
      "include_colab_link": true
    },
    "kernelspec": {
      "name": "python3",
      "display_name": "Python 3"
    },
    "language_info": {
      "name": "python"
    }
  },
  "cells": [
    {
      "cell_type": "markdown",
      "metadata": {
        "id": "view-in-github",
        "colab_type": "text"
      },
      "source": [
        "<a href=\"https://colab.research.google.com/github/Leigh-Hermosura/CPE-103-OOP-1-A/blob/main/Python_Fundamentals.ipynb\" target=\"_parent\"><img src=\"https://colab.research.google.com/assets/colab-badge.svg\" alt=\"Open In Colab\"/></a>"
      ]
    },
    {
      "cell_type": "markdown",
      "source": [
        "Python Indentation"
      ],
      "metadata": {
        "id": "Lt8G1_FkFjPI"
      }
    },
    {
      "cell_type": "code",
      "source": [
        "\n",
        "if 5 > 2:\n",
        "  print(\"Five is greater than two!\")\n"
      ],
      "metadata": {
        "colab": {
          "base_uri": "https://localhost:8080/"
        },
        "id": "hF8BN2zfFtpQ",
        "outputId": "71cede6a-23c1-4258-9d0a-81ad81c8c640"
      },
      "execution_count": null,
      "outputs": [
        {
          "output_type": "stream",
          "name": "stdout",
          "text": [
            "Five is greater than two!\n",
            "y is greater than x\n"
          ]
        }
      ]
    },
    {
      "cell_type": "markdown",
      "source": [
        "Python Comments"
      ],
      "metadata": {
        "id": "y9SQK00LGNJn"
      }
    },
    {
      "cell_type": "code",
      "source": [
        "\n",
        "#This is a comment\n",
        "print(\"Hello, world\")\n"
      ],
      "metadata": {
        "id": "Ia1bZHHJGOqY"
      },
      "execution_count": null,
      "outputs": []
    },
    {
      "cell_type": "markdown",
      "source": [
        "Python Variable"
      ],
      "metadata": {
        "id": "XGqdY_9PKlBY"
      }
    },
    {
      "cell_type": "code",
      "source": [
        "\n",
        "#Variables are containers for storing data values\n",
        "#Example:\n",
        "x = 1\n",
        "a, b = 0, -1\n",
        "a, b, c = 0, -1, 2\n",
        "\n",
        "#Others:\n",
        "b = \"Sally\" #This is a type of string\n"
      ],
      "metadata": {
        "id": "D9t0SPgPKlhf"
      },
      "execution_count": null,
      "outputs": []
    },
    {
      "cell_type": "markdown",
      "source": [
        "Casting"
      ],
      "metadata": {
        "id": "G9xgxpVPMc1H"
      }
    },
    {
      "cell_type": "code",
      "source": [
        "b = \"Sally\" #This is a type of string\n",
        "print(type(b))\n",
        "b = int(4)\n",
        "print(b)\n",
        "\n",
        "b = float(4)\n",
        "print(type(b))\n"
      ],
      "metadata": {
        "colab": {
          "base_uri": "https://localhost:8080/"
        },
        "id": "x7yrQC3nMcUw",
        "outputId": "b79f12f6-d287-4951-a120-127f6f73c936"
      },
      "execution_count": null,
      "outputs": [
        {
          "output_type": "stream",
          "name": "stdout",
          "text": [
            "<class 'str'>\n",
            "4\n",
            "<class 'float'>\n"
          ]
        }
      ]
    },
    {
      "cell_type": "markdown",
      "source": [
        "Multiple Variables"
      ],
      "metadata": {
        "id": "NJ1XGdNzP9K4"
      }
    },
    {
      "cell_type": "code",
      "source": [
        "\n",
        "x, y, z = \"one\", \"two\", \"three\"\n",
        "print(x)\n",
        "print(y)\n",
        "print(z)\n"
      ],
      "metadata": {
        "colab": {
          "base_uri": "https://localhost:8080/"
        },
        "id": "yC6oolXqQBgf",
        "outputId": "63e1dd2c-48f8-4f1b-ee26-d3148f08ea89"
      },
      "execution_count": null,
      "outputs": [
        {
          "output_type": "stream",
          "name": "stdout",
          "text": [
            "one\n",
            "two\n",
            "three\n"
          ]
        }
      ]
    },
    {
      "cell_type": "markdown",
      "source": [
        "One Value to Multiple Variables"
      ],
      "metadata": {
        "id": "lvX3JG1oQUbw"
      }
    },
    {
      "cell_type": "code",
      "source": [
        "\n",
        "x = y = z = \"four\"\n",
        "print(x)\n",
        "print(y)\n",
        "print(z)\n"
      ],
      "metadata": {
        "colab": {
          "base_uri": "https://localhost:8080/"
        },
        "id": "DX0PivhmQUAA",
        "outputId": "91caf01b-f4d0-47ae-e484-7df56fdbd93e"
      },
      "execution_count": null,
      "outputs": [
        {
          "output_type": "stream",
          "name": "stdout",
          "text": [
            "four\n",
            "four\n",
            "four\n"
          ]
        }
      ]
    },
    {
      "cell_type": "markdown",
      "source": [
        "Output Variables\n",
        "\n",
        "\n",
        "*   The python prin is used to output variables and + is used to combine both text and varable\n",
        "\n",
        "Example:"
      ],
      "metadata": {
        "id": "uC1iBwbwQe1f"
      }
    },
    {
      "cell_type": "code",
      "source": [
        "\n",
        "x = \"enjoying\"\n",
        "print(\"Python programming is \" + x)\n"
      ],
      "metadata": {
        "colab": {
          "base_uri": "https://localhost:8080/"
        },
        "id": "l6zq_z0HQgSf",
        "outputId": "de743d10-9b28-4c5b-d4cc-f03470447b9c"
      },
      "execution_count": null,
      "outputs": [
        {
          "output_type": "stream",
          "name": "stdout",
          "text": [
            "Python programming isenjoying\n"
          ]
        }
      ]
    },
    {
      "cell_type": "markdown",
      "source": [
        "Arithmetic Operations\n",
        "\n",
        "*   +\n",
        "*   -\n",
        "*   *\n",
        "*   /\n",
        "*   %\n",
        "*   asterisk asterisk\n",
        "*   //\n",
        "\n"
      ],
      "metadata": {
        "id": "fSzbMphCSG1v"
      }
    },
    {
      "cell_type": "code",
      "source": [
        "x = 32\n",
        "result = x ** 3\n",
        "print(result)"
      ],
      "metadata": {
        "colab": {
          "base_uri": "https://localhost:8080/"
        },
        "id": "GQhb_hurSIOv",
        "outputId": "a0c35b4b-af96-4f8b-9869-65ac56f158cf"
      },
      "execution_count": null,
      "outputs": [
        {
          "output_type": "stream",
          "name": "stdout",
          "text": [
            "32768\n"
          ]
        }
      ]
    },
    {
      "cell_type": "markdown",
      "source": [
        "Bitwise Operator"
      ],
      "metadata": {
        "id": "AqonFabBU8mI"
      }
    },
    {
      "cell_type": "code",
      "source": [
        "\n",
        "#decimal to binary\n",
        "#10 = 1010\n",
        "\n",
        "x = 10\n",
        "print(x)\n",
        "\n",
        "y = x>>1\n",
        "print(y)\n",
        "\n",
        "y = x>>2\n",
        "print(y)\n"
      ],
      "metadata": {
        "colab": {
          "base_uri": "https://localhost:8080/"
        },
        "id": "dgJI353sU-9w",
        "outputId": "14c3ff45-c020-4dd3-f618-780a8dc64e6a"
      },
      "execution_count": null,
      "outputs": [
        {
          "output_type": "stream",
          "name": "stdout",
          "text": [
            "10\n",
            "2\n"
          ]
        }
      ]
    },
    {
      "cell_type": "markdown",
      "source": [
        "Bitwise Operators"
      ],
      "metadata": {
        "id": "RecVuoKDGbhf"
      }
    },
    {
      "cell_type": "code",
      "source": [
        "# &   AND   Sets each bit to 1 if both bits are 1\n",
        "# |   OR    Sets each bit to 1 if one of two bits is 1\n",
        "# ^   XOR   Sets each bit to 1 if only one of two bits is 1\n",
        "# ~   NOT   Inverts all the bits\n",
        "\n",
        "# <<  Zero fill left shift   Shift left by pushing zeros in from the right and let the leftmost bits fall off\n",
        "# >>  Signed right shift     Shift right by pushing copies of the leftmost bit in from the left, and let the rightmost buts fall off"
      ],
      "metadata": {
        "id": "rE4fISI2Giuv"
      },
      "execution_count": null,
      "outputs": []
    },
    {
      "cell_type": "markdown",
      "source": [
        "Application 1"
      ],
      "metadata": {
        "id": "eQCJnXn-YSvg"
      }
    },
    {
      "cell_type": "code",
      "source": [
        "# HERMPOSURA, LEIGH B\n",
        "# BSCPE 1-A\n",
        "# Application 1\n",
        "\n",
        "print(\"\"\"Area of 2d shape calculator\n",
        "0 - Circle\n",
        "1 - Triangle\n",
        "2 - Rectangle\n",
        "\"\"\")\n",
        "\n",
        "choice = int(input(\"> \"))\n",
        "\n",
        "#calculate the area of a circle\n",
        "if choice == 0:\n",
        "  pi = 3.141592653589793\n",
        "  radius = float(input(\"\\nInput the radius of the circle: \"))\n",
        "  area_circle = pi * radius * radius\n",
        "  print(f\"The area of the circle is {round(area_circle, 2)} units squared!\")\n",
        "\n",
        "#calculate the area of a right triangle\n",
        "elif choice == 1:\n",
        "  tbase = float(input(\"\\nInput the base of the triangle: \"))\n",
        "  theight = float(input(\"Input the height of the triangle: \"))\n",
        "  area_triangle = (tbase * theight) / 2\n",
        "  print(f\"The area of the triangle is {round(area_triangle, 2)} units squared!\")\n",
        "\n",
        "#calculate the area of a rectangle\n",
        "elif choice == 2:\n",
        "  rbase = float(input(\"\\nInput the base of the rectangle: \"))\n",
        "  rheight = float(input(\"Input the height of the rectangle: \"))\n",
        "  area_rectangle = (rbase * rheight)\n",
        "  print(f\"The area of the rectangle is {round(area_rectangle, 2)} units squared!\")"
      ],
      "metadata": {
        "colab": {
          "base_uri": "https://localhost:8080/"
        },
        "id": "vPPUK2siYY0H",
        "outputId": "9bdd52b8-3b96-4094-d6a5-60dcfa5d7146"
      },
      "execution_count": null,
      "outputs": [
        {
          "output_type": "stream",
          "name": "stdout",
          "text": [
            "Area of 2d shape calculator\n",
            "0 - Circle\n",
            "1 - Triangle\n",
            "2 - Rectangle\n",
            "\n",
            "> 0\n",
            "\n",
            "Input the radius of the circle: 24\n",
            "The area of the circle is 1809.56 units squared!\n"
          ]
        }
      ]
    }
  ]
}