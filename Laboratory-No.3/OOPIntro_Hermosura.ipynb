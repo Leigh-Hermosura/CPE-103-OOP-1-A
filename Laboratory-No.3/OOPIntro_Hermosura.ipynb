{
  "nbformat": 4,
  "nbformat_minor": 0,
  "metadata": {
    "colab": {
      "provenance": [],
      "authorship_tag": "ABX9TyMvGMwJ5x3J0sBpa1Iks3CO",
      "include_colab_link": true
    },
    "kernelspec": {
      "name": "python3",
      "display_name": "Python 3"
    },
    "language_info": {
      "name": "python"
    }
  },
  "cells": [
    {
      "cell_type": "markdown",
      "metadata": {
        "id": "view-in-github",
        "colab_type": "text"
      },
      "source": [
        "<a href=\"https://colab.research.google.com/github/Leigh-Hermosura/CPE-103-OOP-1-A/blob/main/OOPIntro_Hermosura.ipynb\" target=\"_parent\"><img src=\"https://colab.research.google.com/assets/colab-badge.svg\" alt=\"Open In Colab\"/></a>"
      ]
    },
    {
      "cell_type": "markdown",
      "source": [
        "Accounts.py\n",
        "\n"
      ],
      "metadata": {
        "id": "ZvRK-eJO3LJU"
      }
    },
    {
      "cell_type": "code",
      "source": [
        "\"\"\"\n",
        "  Accounts.py\n",
        "\"\"\"\n",
        "\n",
        "class Accounts():\n",
        "  account_number = 0\n",
        "  account_firstname = \"\"\n",
        "  account_lastname = \"\"\n",
        "  current_balance = 0.0\n",
        "  address = \"\"\n",
        "  email = \"\"\n",
        "\n",
        "  def update_address(self, new_address):\n",
        "    Accounts.address = new_address\n",
        "\n",
        "  def update_email(self, new_email):\n",
        "    Accounts.email = new_email"
      ],
      "metadata": {
        "id": "ypLLONZrV3zu"
      },
      "execution_count": null,
      "outputs": []
    },
    {
      "cell_type": "markdown",
      "source": [
        "ATM.py"
      ],
      "metadata": {
        "id": "apXwj5PqWm-v"
      }
    },
    {
      "cell_type": "code",
      "source": [
        "\"\"\"\n",
        "  ATM.py\n",
        "\"\"\"\n",
        "\n",
        "class ATM():\n",
        "  serial_number = 0\n",
        "\n",
        "  def deposit(self, account, amount):\n",
        "    account.current_balance = account.current_balance + amount\n",
        "    print(\"Deposit Complete\")\n",
        "\n",
        "  def withdraw(self, account, amount):\n",
        "    account.current_balance = account.current_balance - amount\n",
        "    print(\"Withdraw Complete\")\n",
        "\n",
        "  def check_currentbalance(self, account):\n",
        "    print(account.current_balance)"
      ],
      "metadata": {
        "id": "VpTvfZAfWml4"
      },
      "execution_count": null,
      "outputs": []
    },
    {
      "cell_type": "markdown",
      "source": [
        "Creating Instances of Classes"
      ],
      "metadata": {
        "id": "yv43CH48Xc_P"
      }
    },
    {
      "cell_type": "code",
      "source": [
        "\"\"\"\n",
        "  main.py\n",
        "\"\"\"\n",
        "\n",
        "Account1 = Accounts() # create the instance/object\n",
        "\n",
        "print(\"Account 1\")\n",
        "Account1.account_firstname = \"Royce\"\n",
        "Account1.account_lastname = \"Chua\"\n",
        "Account1.current_balance = 1000\n",
        "Account1.address = \"Silver Street Quezon City\"\n",
        "Account1.email = \"roycechua123@gmail.com\"\n",
        "\n",
        "print(Account1.account_firstname)\n",
        "print(Account1.account_lastname)\n",
        "print(Account1.current_balance)\n",
        "print(Account1.address)\n",
        "print(Account1.email)\n",
        "\n",
        "print()\n",
        "\n",
        "Account2 = Accounts()\n",
        "\n",
        "Account2.account_firstname = \"John\"\n",
        "Account2.account_lastname = \"Doe\"\n",
        "Account2.current_balance = 2000\n",
        "Account2.address = \"Gold Street Quezon City\"\n",
        "Account2.email = \"johndoe@yahoo.com\"\n",
        "\n",
        "print(Account2.account_firstname)\n",
        "print(Account2.account_lastname)\n",
        "print(Account2.current_balance)\n",
        "print(Account2.address)\n",
        "print(Account2.email)\n",
        "\n",
        "print()\n",
        "\n",
        "# Creating and Using an ATM object\n",
        "ATM1 = ATM()\n",
        "\n",
        "ATM1.deposit(Account1, 500)\n",
        "ATM1.check_currentbalance(Account1)\n",
        "\n",
        "ATM1.deposit(Account2, 300)\n",
        "ATM1.check_currentbalance(Account2)"
      ],
      "metadata": {
        "colab": {
          "base_uri": "https://localhost:8080/"
        },
        "id": "lWAcODvgXfqe",
        "outputId": "a7158ca4-a1e0-4d8c-8e2c-49e8cf5af0e6"
      },
      "execution_count": null,
      "outputs": [
        {
          "output_type": "stream",
          "name": "stdout",
          "text": [
            "Account 1\n",
            "Royce\n",
            "Chua\n",
            "1000\n",
            "Silver Street Quezon City\n",
            "roycechua123@gmail.com\n",
            "\n",
            "John\n",
            "Doe\n",
            "2000\n",
            "Gold Street Quezon City\n",
            "johndoe@yahoo.com\n",
            "\n",
            "Deposit Complete\n",
            "1500\n",
            "Deposit Complete\n",
            "2300\n"
          ]
        }
      ]
    },
    {
      "cell_type": "code",
      "source": [
        "\"\"\"\n",
        "  Accounts.py\n",
        "\"\"\"\n",
        "\n",
        "class Accounts():\n",
        "  def __init__(self, account_number, account_firstname, account_lastname, current_balance, address, email):\n",
        "    self.account_number = account_number\n",
        "    self.account_firstname = account_firstname\n",
        "    self.account_lastname = account_lastname\n",
        "    self.current_balance = current_balance\n",
        "    self.address = address\n",
        "    self.email = email\n",
        "\n",
        "  def update_address(self, new_address):\n",
        "    self.address = new_address\n",
        "\n",
        "  def update_email(self, new_email):\n",
        "    self.email = new_email"
      ],
      "metadata": {
        "id": "g5oJFm-5FU8a"
      },
      "execution_count": null,
      "outputs": []
    },
    {
      "cell_type": "code",
      "source": [
        "\"\"\"\n",
        "  main.py\n",
        "\"\"\"\n",
        "\n",
        "Account1 = Accounts(account_number=123456, account_firstname=\"Royce\", account_lastname=\"Chua\", current_balance=1000, address=\"Silver Quezon City\", email=\"roycechua123@gmail.com\")\n",
        "\n",
        "print(\"Account 1\")\n",
        "print(Account1.account_firstname)\n",
        "print(Account1.account_lastname)\n",
        "print(Account1.current_balance)\n",
        "print(Account1.address)\n",
        "print(Account1.email)\n",
        "\n",
        "print()\n",
        "\n",
        "Account2 = Accounts(account_number=654321, account_firstname=\"John\", account_lastname=\"Doe\", current_balance=2000, address=\"Gold Street Quezon City\", email=\"johndoe@yahoo.com\")\n",
        "\n",
        "print(\"Account 2\")\n",
        "print(Account2.account_firstname)\n",
        "print(Account2.account_lastname)\n",
        "print(Account2.current_balance)\n",
        "print(Account2.address)\n",
        "print(Account2.email)\n",
        "\n",
        "print()\n",
        "\n",
        "# Creating and Using an ATM object\n",
        "ATM = ATM()\n",
        "ATM1.deposit(Account1, 500)\n",
        "ATM1.check_currentbalance(Account1)\n",
        "\n",
        "ATM1.deposit(Account2, 300)\n",
        "ATM1.check_currentbalance(Account2)"
      ],
      "metadata": {
        "id": "le6H4SI0GPjf",
        "colab": {
          "base_uri": "https://localhost:8080/"
        },
        "outputId": "d9eac86e-21b6-4813-f105-3938fdd2cb05"
      },
      "execution_count": null,
      "outputs": [
        {
          "output_type": "stream",
          "name": "stdout",
          "text": [
            "Account 1\n",
            "Royce\n",
            "Chua\n",
            "1000\n",
            "Silver Quezon City\n",
            "roycechua123@gmail.com\n",
            "\n",
            "Account 2\n",
            "John\n",
            "Doe\n",
            "2000\n",
            "Gold Street Quezon City\n",
            "johndoe@yahoo.com\n",
            "\n",
            "Deposit Complete\n",
            "1500\n",
            "Deposit Complete\n",
            "2300\n"
          ]
        }
      ]
    },
    {
      "cell_type": "markdown",
      "source": [
        "Supplementary Activity\n",
        "\n",
        "1.   Modify the ATM.py program and add the constructor function\n",
        "2.   Modify the main.py program and initialize the ATM machine with any integer serial number combination and display the serial number at the end of the program.\n",
        "3.   Modify the ATM.py program and add the view_transactionsummary() method. The method should display all the transaction made in the ATM object.\n",
        "\n"
      ],
      "metadata": {
        "id": "NZ6DqmuRG39t"
      }
    },
    {
      "cell_type": "code",
      "source": [
        "# 1. Modify the ATM.py program and add the constructor function\n",
        "\n",
        "\"\"\"\n",
        "  ATM.py\n",
        "\"\"\"\n",
        "\n",
        "class ATM():\n",
        "  def __init__(self, serial_number):\n",
        "    self.serial_number = serial_number\n",
        "\n",
        "  def deposit(self, account, amount):\n",
        "    account.current_balance = account.current_balance + amount\n",
        "    print(\"Deposit Complete\")\n",
        "\n",
        "  def withdraw(self, account, amount):\n",
        "    account.current_balance = account.current_balance - amount\n",
        "    print(\"Withdraw Complete\")\n",
        "\n",
        "  def check_currentbalance(self, account):\n",
        "    print(f\"Current Balance: {account.current_balance}\")\n"
      ],
      "metadata": {
        "id": "clU9zlvdG_h2"
      },
      "execution_count": null,
      "outputs": []
    },
    {
      "cell_type": "code",
      "source": [
        "# 2. Modify the main.py program and initialize the ATM machine with any integer serial number combination and display\n",
        "#    the serial number at the end of the program.\n",
        "\n",
        "\"\"\"\n",
        "  main.py\n",
        "\"\"\"\n",
        "\n",
        "Account1 = Accounts(account_number=123456, account_firstname=\"Royce\", account_lastname=\"Chua\", current_balance=1000, address=\"Silver Quezon City\", email=\"roycechua123@gmail.com\")\n",
        "\n",
        "print(\"Account 1\")\n",
        "print(Account1.account_firstname)\n",
        "print(Account1.account_lastname)\n",
        "print(Account1.current_balance)\n",
        "print(Account1.address)\n",
        "print(Account1.email)\n",
        "\n",
        "print()\n",
        "\n",
        "Account2 = Accounts(account_number=654321, account_firstname=\"John\", account_lastname=\"Doe\", current_balance=2000, address=\"Gold Street Quezon City\", email=\"johndoe@yahoo.com\")\n",
        "\n",
        "print(\"Account 2\")\n",
        "print(Account2.account_firstname)\n",
        "print(Account2.account_lastname)\n",
        "print(Account2.current_balance)\n",
        "print(Account2.address)\n",
        "print(Account2.email)\n",
        "\n",
        "print()\n",
        "\n",
        "# Creating and Using an ATM object\n",
        "ATM = ATM(serial_number=111111)\n",
        "ATM1.deposit(Account1, 500)\n",
        "ATM1.check_currentbalance(Account1)\n",
        "\n",
        "ATM1.deposit(Account2, 300)\n",
        "ATM1.check_currentbalance(Account2)\n",
        "\n",
        "print()\n",
        "\n",
        "print(f\"ATM Serial Number: {ATM.serial_number}\")"
      ],
      "metadata": {
        "colab": {
          "base_uri": "https://localhost:8080/"
        },
        "id": "JD1dQT3oKv17",
        "outputId": "98c9b4ff-5ea7-48a5-93d8-e8ac9a2aec16"
      },
      "execution_count": null,
      "outputs": [
        {
          "output_type": "stream",
          "name": "stdout",
          "text": [
            "Account 1\n",
            "Royce\n",
            "Chua\n",
            "1000\n",
            "Silver Quezon City\n",
            "roycechua123@gmail.com\n",
            "\n",
            "Account 2\n",
            "John\n",
            "Doe\n",
            "2000\n",
            "Gold Street Quezon City\n",
            "johndoe@yahoo.com\n",
            "\n",
            "Deposit Complete\n",
            "1500\n",
            "Deposit Complete\n",
            "2300\n",
            "\n",
            "ATM Serial Number: 111111\n"
          ]
        }
      ]
    },
    {
      "cell_type": "code",
      "source": [
        "# 3. Modify the ATM.py program and add the view_transactionsummary() method. The method should display all the\n",
        "#    transaction made in the ATM object.\n",
        "\n",
        "\"\"\"\n",
        "  ATM.py\n",
        "\"\"\"\n",
        "\n",
        "class ATM():\n",
        "  def __init__(self, serial_number):\n",
        "    self.serial_number = serial_number\n",
        "    self.transactions = []\n",
        "\n",
        "  def deposit(self, account, amount):\n",
        "    account.current_balance = account.current_balance + amount\n",
        "    transaction = f\"Deposit: {amount} to {account.account_number}\"\n",
        "    self.transactions.append(transaction)\n",
        "    print(\"Deposit Complete\")\n",
        "\n",
        "  def withdraw(self, account, amount):\n",
        "    account.current_balance = account.current_balance - amount\n",
        "    transaction = f\"Withdraw: {amount} from {account.account_number}\"\n",
        "    self.transactions.append(transaction)\n",
        "    print(\"Withdraw Complete\")\n",
        "\n",
        "  def check_currentbalance(self, account):\n",
        "    print(f\"Current Balance: {account.current_balance}\")\n",
        "\n",
        "  def view_transactionsummary(self):\n",
        "    print(\"\\nTransaction Summary:\")\n",
        "    if not self.transactions:\n",
        "            print(\"No transactions made.\")\n",
        "    else:\n",
        "      for index, transaction in enumerate(self.transactions, start=1):\n",
        "        print(f\"{index}. {transaction}\")\n"
      ],
      "metadata": {
        "id": "odaQ703fP2Bs"
      },
      "execution_count": null,
      "outputs": []
    }
  ]
}