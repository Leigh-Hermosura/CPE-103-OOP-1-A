{
  "cells": [
    {
      "cell_type": "markdown",
      "metadata": {
        "id": "view-in-github",
        "colab_type": "text"
      },
      "source": [
        "<a href=\"https://colab.research.google.com/github/Leigh-Hermosura/CPE-103-OOP-1-A/blob/main/CPE_103_Laboratory_No_2_2_Literals%2C_Operators%2C_and_Variables_Supplementary_Activity.ipynb\" target=\"_parent\"><img src=\"https://colab.research.google.com/assets/colab-badge.svg\" alt=\"Open In Colab\"/></a>"
      ]
    },
    {
      "cell_type": "markdown",
      "metadata": {
        "id": "xUKw6dtiGo-r"
      },
      "source": [
        "---\n",
        "<center>\n",
        "\n",
        "**University of Caloocan City**<br>\n",
        "Computer Engineering Department<br>\n",
        "Bagong Silang Campus</center>\n",
        "\n",
        "---\n",
        "<center><h4> Activity No. and Title:</h4></center>\n",
        "\n",
        "---\n",
        "<center>\n",
        "\n",
        "| Course: CPE 103 | Program: BSCpE |\n",
        "|--- | --- |\n",
        "| **Course Title**: Object Oriented Programming | **Date Performed:** February 01, 2025 |\n",
        "| **Section**: 1 - A | **Date Submitted:** |\n",
        "| **Student Name**: Hermosura, Leigh B. | **Instructor's Name:** Ma'am Maria Rizette M. Sayo |\n",
        "</center>"
      ]
    },
    {
      "cell_type": "markdown",
      "source": [
        "**Objective/s of the activity:**\n",
        "\n",
        "1.   List item\n",
        "2.   List item\n",
        "\n",
        "**Intended Learning Outcome:**\n",
        "\n",
        "1.   List item\n",
        "2.   List item\n",
        "\n",
        "**Discussion:**\n",
        "\n",
        "(put your discussions here)\n",
        "\n",
        "**Materials and Equipment:**\n",
        "\n",
        "1.   List item\n",
        "2.   List item\n",
        "\n",
        "**Procedure:**\n",
        "\n",
        "1.   List item\n",
        "2.   List item"
      ],
      "metadata": {
        "id": "gNe4D_l5JGiM"
      }
    },
    {
      "cell_type": "code",
      "source": [
        "# Place all the output of the procedures here"
      ],
      "metadata": {
        "id": "WORPHnvZKBVE"
      },
      "execution_count": null,
      "outputs": []
    },
    {
      "cell_type": "markdown",
      "source": [
        "**Supplementary Activity**:\n",
        "\n",
        "1.   List item\n",
        "2.   List item\n"
      ],
      "metadata": {
        "id": "bV8A708BKFuC"
      }
    },
    {
      "cell_type": "code",
      "source": [
        "# Place all the output of the supplementary activity here"
      ],
      "metadata": {
        "id": "X2QfbKrmKOJK"
      },
      "execution_count": null,
      "outputs": []
    },
    {
      "cell_type": "markdown",
      "source": [
        "\n",
        "**Questions**: (write your answers in blue font color and questions in black)\n",
        "\n",
        "1.   List item\n",
        "2.   List item"
      ],
      "metadata": {
        "id": "0CYvOMNPKNEq"
      }
    },
    {
      "cell_type": "markdown",
      "source": [
        "**Conclusion**:\n",
        "(conclusion must be based from the objective and answers whether you attained the objective/s or not and a brief explanation how you attained it)\n"
      ],
      "metadata": {
        "id": "f8oM9wqYKuO1"
      }
    },
    {
      "cell_type": "code",
      "source": [
        "\n",
        "PHOA = float(input(\"Enter Hands-on Activity grade: \"))\n",
        "PQUIZ = float(input(\"Enter Prelim Quiz grade: \"))\n",
        "PAS = float(input(\"Enter Prelim Assignment grade: \"))\n",
        "PCS = PHOA*.5 + PQUIZ*.3 + PAS*.2\n",
        "print(\"Prelim CS is: \", PCS)\n",
        "PEX = float(input(\"Enter Prelim Exam grade: \"))\n",
        "PG = PEX*.5 + PCS*.5\n",
        "print(\"Prelim Grade is: \", \"%.2f\" % PG)\n",
        "\n"
      ],
      "metadata": {
        "colab": {
          "base_uri": "https://localhost:8080/",
          "height": 356
        },
        "id": "NHscsOjtxAtB",
        "outputId": "623c2d78-240a-4595-b11d-2838201c0180"
      },
      "execution_count": 2,
      "outputs": [
        {
          "output_type": "error",
          "ename": "KeyboardInterrupt",
          "evalue": "Interrupted by user",
          "traceback": [
            "\u001b[0;31m---------------------------------------------------------------------------\u001b[0m",
            "\u001b[0;31mKeyboardInterrupt\u001b[0m                         Traceback (most recent call last)",
            "\u001b[0;32m<ipython-input-2-70a234c3ae03>\u001b[0m in \u001b[0;36m<cell line: 0>\u001b[0;34m()\u001b[0m\n\u001b[0;32m----> 1\u001b[0;31m \u001b[0mPHOA\u001b[0m \u001b[0;34m=\u001b[0m \u001b[0mfloat\u001b[0m\u001b[0;34m(\u001b[0m\u001b[0minput\u001b[0m\u001b[0;34m(\u001b[0m\u001b[0;34m\"Enter Hands-on Activity grade: \"\u001b[0m\u001b[0;34m)\u001b[0m\u001b[0;34m)\u001b[0m\u001b[0;34m\u001b[0m\u001b[0;34m\u001b[0m\u001b[0m\n\u001b[0m\u001b[1;32m      2\u001b[0m \u001b[0mPQUIZ\u001b[0m \u001b[0;34m=\u001b[0m \u001b[0mfloat\u001b[0m\u001b[0;34m(\u001b[0m\u001b[0minput\u001b[0m\u001b[0;34m(\u001b[0m\u001b[0;34m\"Enter Prelim Quiz grade: \"\u001b[0m\u001b[0;34m)\u001b[0m\u001b[0;34m)\u001b[0m\u001b[0;34m\u001b[0m\u001b[0;34m\u001b[0m\u001b[0m\n\u001b[1;32m      3\u001b[0m \u001b[0mPAS\u001b[0m \u001b[0;34m=\u001b[0m \u001b[0mfloat\u001b[0m\u001b[0;34m(\u001b[0m\u001b[0minput\u001b[0m\u001b[0;34m(\u001b[0m\u001b[0;34m\"Enter Prelim Assignment grade: \"\u001b[0m\u001b[0;34m)\u001b[0m\u001b[0;34m)\u001b[0m\u001b[0;34m\u001b[0m\u001b[0;34m\u001b[0m\u001b[0m\n\u001b[1;32m      4\u001b[0m \u001b[0mPCS\u001b[0m \u001b[0;34m=\u001b[0m \u001b[0mPHOA\u001b[0m\u001b[0;34m*\u001b[0m\u001b[0;36m.5\u001b[0m \u001b[0;34m+\u001b[0m \u001b[0mPQUIZ\u001b[0m\u001b[0;34m*\u001b[0m\u001b[0;36m.3\u001b[0m \u001b[0;34m+\u001b[0m \u001b[0mPAS\u001b[0m\u001b[0;34m*\u001b[0m\u001b[0;36m.2\u001b[0m\u001b[0;34m\u001b[0m\u001b[0;34m\u001b[0m\u001b[0m\n\u001b[1;32m      5\u001b[0m \u001b[0mprint\u001b[0m\u001b[0;34m(\u001b[0m\u001b[0;34m\"Prelim CS is: \"\u001b[0m\u001b[0;34m,\u001b[0m \u001b[0mPCS\u001b[0m\u001b[0;34m)\u001b[0m\u001b[0;34m\u001b[0m\u001b[0;34m\u001b[0m\u001b[0m\n",
            "\u001b[0;32m/usr/local/lib/python3.11/dist-packages/ipykernel/kernelbase.py\u001b[0m in \u001b[0;36mraw_input\u001b[0;34m(self, prompt)\u001b[0m\n\u001b[1;32m    849\u001b[0m                 \u001b[0;34m\"raw_input was called, but this frontend does not support input requests.\"\u001b[0m\u001b[0;34m\u001b[0m\u001b[0;34m\u001b[0m\u001b[0m\n\u001b[1;32m    850\u001b[0m             )\n\u001b[0;32m--> 851\u001b[0;31m         return self._input_request(str(prompt),\n\u001b[0m\u001b[1;32m    852\u001b[0m             \u001b[0mself\u001b[0m\u001b[0;34m.\u001b[0m\u001b[0m_parent_ident\u001b[0m\u001b[0;34m,\u001b[0m\u001b[0;34m\u001b[0m\u001b[0;34m\u001b[0m\u001b[0m\n\u001b[1;32m    853\u001b[0m             \u001b[0mself\u001b[0m\u001b[0;34m.\u001b[0m\u001b[0m_parent_header\u001b[0m\u001b[0;34m,\u001b[0m\u001b[0;34m\u001b[0m\u001b[0;34m\u001b[0m\u001b[0m\n",
            "\u001b[0;32m/usr/local/lib/python3.11/dist-packages/ipykernel/kernelbase.py\u001b[0m in \u001b[0;36m_input_request\u001b[0;34m(self, prompt, ident, parent, password)\u001b[0m\n\u001b[1;32m    893\u001b[0m             \u001b[0;32mexcept\u001b[0m \u001b[0mKeyboardInterrupt\u001b[0m\u001b[0;34m:\u001b[0m\u001b[0;34m\u001b[0m\u001b[0;34m\u001b[0m\u001b[0m\n\u001b[1;32m    894\u001b[0m                 \u001b[0;31m# re-raise KeyboardInterrupt, to truncate traceback\u001b[0m\u001b[0;34m\u001b[0m\u001b[0;34m\u001b[0m\u001b[0m\n\u001b[0;32m--> 895\u001b[0;31m                 \u001b[0;32mraise\u001b[0m \u001b[0mKeyboardInterrupt\u001b[0m\u001b[0;34m(\u001b[0m\u001b[0;34m\"Interrupted by user\"\u001b[0m\u001b[0;34m)\u001b[0m \u001b[0;32mfrom\u001b[0m \u001b[0;32mNone\u001b[0m\u001b[0;34m\u001b[0m\u001b[0;34m\u001b[0m\u001b[0m\n\u001b[0m\u001b[1;32m    896\u001b[0m             \u001b[0;32mexcept\u001b[0m \u001b[0mException\u001b[0m \u001b[0;32mas\u001b[0m \u001b[0me\u001b[0m\u001b[0;34m:\u001b[0m\u001b[0;34m\u001b[0m\u001b[0;34m\u001b[0m\u001b[0m\n\u001b[1;32m    897\u001b[0m                 \u001b[0mself\u001b[0m\u001b[0;34m.\u001b[0m\u001b[0mlog\u001b[0m\u001b[0;34m.\u001b[0m\u001b[0mwarning\u001b[0m\u001b[0;34m(\u001b[0m\u001b[0;34m\"Invalid Message:\"\u001b[0m\u001b[0;34m,\u001b[0m \u001b[0mexc_info\u001b[0m\u001b[0;34m=\u001b[0m\u001b[0;32mTrue\u001b[0m\u001b[0;34m)\u001b[0m\u001b[0;34m\u001b[0m\u001b[0;34m\u001b[0m\u001b[0m\n",
            "\u001b[0;31mKeyboardInterrupt\u001b[0m: Interrupted by user"
          ]
        }
      ]
    },
    {
      "cell_type": "code",
      "source": [
        "\n",
        "student1 = input(\"Enter student name: \")\n",
        "prelimHOA = float(input(\"Prelim Hands-on Activity (out of 100): \"))\n",
        "prelimQuiz = float(input(\"Prelim Quiz (out of 100): \"))\n",
        "prelimAss = float(input(\"Prelim Assignment (out of 100): \"))\n",
        "prelimExam = float(input(\"Prelim Exam Grade (out of 100): \"))\n",
        "prelimCS = (prelimHOA * 0.5) + (prelimQuiz * 0.3) + (prelimAss * 0.2)\n",
        "prelimGrade = (prelimExam * 0.5) + (prelimCS * 0.5)\n",
        "\n",
        "\n",
        "print(f\"\\nPrelim Class Standing is: {round(prelimCS, 2)}\")\n",
        "print(f\"Prelim Grade is: {round(prelimGrade, 2)}\")\n",
        "print(\"--------------------------\")\n",
        "midtermHOA = float(input(\"Midterm Hands-on Activity (out of 100): \"))\n",
        "midtermQuiz = float(input(\"Midterm Quiz (out of 100): \"))\n",
        "midtermAss = float(input(\"Midterm Assignment (out of 100): \"))\n",
        "midtermExam = float(input(\"Midterm Exam Grade (out of 100): \"))\n",
        "midtermCS = (midtermHOA * 0.5) + (midtermQuiz * 0.3) + (midtermAss * 0.2)\n",
        "midtermCombination = (midtermExam * 0.5) + (midtermCS * 0.5)\n",
        "midtermGrade = (prelimGrade * (1/3)) + (midtermCombination * (2/3))\n",
        "\n",
        "print(f\"\\nMidterm Class Standing is: {round(midtermCS, 2)}\")\n",
        "print(f\"Midterm Grade is: {round(midtermGrade, 2)}\")\n",
        "print(\"--------------------------\")\n",
        "finalHOA = float(input(\"Final Hands-on Activity (out of 100): \"))\n",
        "finalQuiz = float(input(\"Final Quiz (out of 100): \"))\n",
        "finalAss = float(input(\"Final Assignment (out of 100): \"))\n",
        "finalExam = float(input(\"Final Exam Grade (out of 100): \"))\n",
        "finalCS = (finalHOA * 0.5) + (finalQuiz * 0.3) + (finalAss * 0.2)\n",
        "finalCombination = (finalExam * 0.5) + (finalCS * 0.5)\n",
        "finalGrade = (midtermGrade * (1/3)) + (finalCombination * (2/3))\n",
        "\n",
        "if 97 <= finalGrade < 100:\n",
        "  finalGrade = 1.00\n",
        "elif 93 <= finalGrade < 97:\n",
        "  finalGrade = 1.25\n",
        "elif 89 <= finalGrade < 93:\n",
        "  finalGrade = 1.50\n",
        "elif 85 <= finalGrade < 89:\n",
        "  finalGrade = 1.75\n",
        "elif 82 <= finalGrade < 85:\n",
        "  finalGrade = 2.00\n",
        "elif 79 <= finalGrade < 82:\n",
        "  finalGrade = 2.25\n",
        "elif 76 <= finalGrade < 79:\n",
        "  finalGrade = 2.50\n",
        "elif 73 <= finalGrade < 76:\n",
        "  finalGrade = 2.75\n",
        "elif 70 <= finalGrade < 73:\n",
        "  finalGrade = 3.00\n",
        "elif finalGrade < 70:\n",
        "  finalGrade = 5.00\n",
        "\n",
        "print(f\"\\nFinal Class Standing is: {round(finalCS, 2)}\")\n",
        "print(f\"{student1}'s Final grade is: {finalGrade}\")"
      ],
      "metadata": {
        "colab": {
          "base_uri": "https://localhost:8080/",
          "height": 547
        },
        "id": "Jxf3uQZA9X1E",
        "outputId": "8ca63e6e-c16a-4f80-f12b-6c26c0cf7ba1"
      },
      "execution_count": 43,
      "outputs": [
        {
          "name": "stdout",
          "output_type": "stream",
          "text": [
            "Enter student name: fda\n",
            "Prelim Hands-on Activity (out of 100): 86\n",
            "Prelim Quiz (out of 100): 54\n",
            "Prelim Assignment (out of 100): 76\n",
            "Prelim Exam Grade (out of 100): 97\n",
            "\n",
            "Prelim Class Standing is: 74.4\n",
            "Prelim Grade is: 85.7\n",
            "--------------------------\n",
            "Midterm Hands-on Activity (out of 100): 43\n",
            "Midterm Quiz (out of 100): 656\n"
          ]
        },
        {
          "output_type": "error",
          "ename": "KeyboardInterrupt",
          "evalue": "Interrupted by user",
          "traceback": [
            "\u001b[0;31m---------------------------------------------------------------------------\u001b[0m",
            "\u001b[0;31mKeyboardInterrupt\u001b[0m                         Traceback (most recent call last)",
            "\u001b[0;32m<ipython-input-43-bef7264663c2>\u001b[0m in \u001b[0;36m<cell line: 0>\u001b[0;34m()\u001b[0m\n\u001b[1;32m     13\u001b[0m \u001b[0mmidtermHOA\u001b[0m \u001b[0;34m=\u001b[0m \u001b[0mfloat\u001b[0m\u001b[0;34m(\u001b[0m\u001b[0minput\u001b[0m\u001b[0;34m(\u001b[0m\u001b[0;34m\"Midterm Hands-on Activity (out of 100): \"\u001b[0m\u001b[0;34m)\u001b[0m\u001b[0;34m)\u001b[0m\u001b[0;34m\u001b[0m\u001b[0;34m\u001b[0m\u001b[0m\n\u001b[1;32m     14\u001b[0m \u001b[0mmidtermQuiz\u001b[0m \u001b[0;34m=\u001b[0m \u001b[0mfloat\u001b[0m\u001b[0;34m(\u001b[0m\u001b[0minput\u001b[0m\u001b[0;34m(\u001b[0m\u001b[0;34m\"Midterm Quiz (out of 100): \"\u001b[0m\u001b[0;34m)\u001b[0m\u001b[0;34m)\u001b[0m\u001b[0;34m\u001b[0m\u001b[0;34m\u001b[0m\u001b[0m\n\u001b[0;32m---> 15\u001b[0;31m \u001b[0mmidtermAss\u001b[0m \u001b[0;34m=\u001b[0m \u001b[0mfloat\u001b[0m\u001b[0;34m(\u001b[0m\u001b[0minput\u001b[0m\u001b[0;34m(\u001b[0m\u001b[0;34m\"Midterm Assignment (out of 100): \"\u001b[0m\u001b[0;34m)\u001b[0m\u001b[0;34m)\u001b[0m\u001b[0;34m\u001b[0m\u001b[0;34m\u001b[0m\u001b[0m\n\u001b[0m\u001b[1;32m     16\u001b[0m \u001b[0mmidtermExam\u001b[0m \u001b[0;34m=\u001b[0m \u001b[0mfloat\u001b[0m\u001b[0;34m(\u001b[0m\u001b[0minput\u001b[0m\u001b[0;34m(\u001b[0m\u001b[0;34m\"Midterm Exam Grade (out of 100): \"\u001b[0m\u001b[0;34m)\u001b[0m\u001b[0;34m)\u001b[0m\u001b[0;34m\u001b[0m\u001b[0;34m\u001b[0m\u001b[0m\n\u001b[1;32m     17\u001b[0m \u001b[0mmidtermCS\u001b[0m \u001b[0;34m=\u001b[0m \u001b[0;34m(\u001b[0m\u001b[0mmidtermHOA\u001b[0m \u001b[0;34m*\u001b[0m \u001b[0;36m0.5\u001b[0m\u001b[0;34m)\u001b[0m \u001b[0;34m+\u001b[0m \u001b[0;34m(\u001b[0m\u001b[0mmidtermQuiz\u001b[0m \u001b[0;34m*\u001b[0m \u001b[0;36m0.3\u001b[0m\u001b[0;34m)\u001b[0m \u001b[0;34m+\u001b[0m \u001b[0;34m(\u001b[0m\u001b[0mmidtermAss\u001b[0m \u001b[0;34m*\u001b[0m \u001b[0;36m0.2\u001b[0m\u001b[0;34m)\u001b[0m\u001b[0;34m\u001b[0m\u001b[0;34m\u001b[0m\u001b[0m\n",
            "\u001b[0;32m/usr/local/lib/python3.11/dist-packages/ipykernel/kernelbase.py\u001b[0m in \u001b[0;36mraw_input\u001b[0;34m(self, prompt)\u001b[0m\n\u001b[1;32m    849\u001b[0m                 \u001b[0;34m\"raw_input was called, but this frontend does not support input requests.\"\u001b[0m\u001b[0;34m\u001b[0m\u001b[0;34m\u001b[0m\u001b[0m\n\u001b[1;32m    850\u001b[0m             )\n\u001b[0;32m--> 851\u001b[0;31m         return self._input_request(str(prompt),\n\u001b[0m\u001b[1;32m    852\u001b[0m             \u001b[0mself\u001b[0m\u001b[0;34m.\u001b[0m\u001b[0m_parent_ident\u001b[0m\u001b[0;34m,\u001b[0m\u001b[0;34m\u001b[0m\u001b[0;34m\u001b[0m\u001b[0m\n\u001b[1;32m    853\u001b[0m             \u001b[0mself\u001b[0m\u001b[0;34m.\u001b[0m\u001b[0m_parent_header\u001b[0m\u001b[0;34m,\u001b[0m\u001b[0;34m\u001b[0m\u001b[0;34m\u001b[0m\u001b[0m\n",
            "\u001b[0;32m/usr/local/lib/python3.11/dist-packages/ipykernel/kernelbase.py\u001b[0m in \u001b[0;36m_input_request\u001b[0;34m(self, prompt, ident, parent, password)\u001b[0m\n\u001b[1;32m    893\u001b[0m             \u001b[0;32mexcept\u001b[0m \u001b[0mKeyboardInterrupt\u001b[0m\u001b[0;34m:\u001b[0m\u001b[0;34m\u001b[0m\u001b[0;34m\u001b[0m\u001b[0m\n\u001b[1;32m    894\u001b[0m                 \u001b[0;31m# re-raise KeyboardInterrupt, to truncate traceback\u001b[0m\u001b[0;34m\u001b[0m\u001b[0;34m\u001b[0m\u001b[0m\n\u001b[0;32m--> 895\u001b[0;31m                 \u001b[0;32mraise\u001b[0m \u001b[0mKeyboardInterrupt\u001b[0m\u001b[0;34m(\u001b[0m\u001b[0;34m\"Interrupted by user\"\u001b[0m\u001b[0;34m)\u001b[0m \u001b[0;32mfrom\u001b[0m \u001b[0;32mNone\u001b[0m\u001b[0;34m\u001b[0m\u001b[0;34m\u001b[0m\u001b[0m\n\u001b[0m\u001b[1;32m    896\u001b[0m             \u001b[0;32mexcept\u001b[0m \u001b[0mException\u001b[0m \u001b[0;32mas\u001b[0m \u001b[0me\u001b[0m\u001b[0;34m:\u001b[0m\u001b[0;34m\u001b[0m\u001b[0;34m\u001b[0m\u001b[0m\n\u001b[1;32m    897\u001b[0m                 \u001b[0mself\u001b[0m\u001b[0;34m.\u001b[0m\u001b[0mlog\u001b[0m\u001b[0;34m.\u001b[0m\u001b[0mwarning\u001b[0m\u001b[0;34m(\u001b[0m\u001b[0;34m\"Invalid Message:\"\u001b[0m\u001b[0;34m,\u001b[0m \u001b[0mexc_info\u001b[0m\u001b[0;34m=\u001b[0m\u001b[0;32mTrue\u001b[0m\u001b[0;34m)\u001b[0m\u001b[0;34m\u001b[0m\u001b[0;34m\u001b[0m\u001b[0m\n",
            "\u001b[0;31mKeyboardInterrupt\u001b[0m: Interrupted by user"
          ]
        }
      ]
    }
  ],
  "metadata": {
    "kernelspec": {
      "display_name": "Python 3",
      "language": "python",
      "name": "python3"
    },
    "language_info": {
      "codemirror_mode": {
        "name": "ipython",
        "version": 3
      },
      "file_extension": ".py",
      "mimetype": "text/x-python",
      "name": "python",
      "nbconvert_exporter": "python",
      "pygments_lexer": "ipython3",
      "version": "3.7.3"
    },
    "colab": {
      "provenance": [],
      "include_colab_link": true
    }
  },
  "nbformat": 4,
  "nbformat_minor": 0
}