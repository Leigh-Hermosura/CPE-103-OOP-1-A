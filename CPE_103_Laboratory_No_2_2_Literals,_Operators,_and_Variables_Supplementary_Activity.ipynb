{
  "cells": [
    {
      "cell_type": "markdown",
      "metadata": {
        "id": "view-in-github",
        "colab_type": "text"
      },
      "source": [
        "<a href=\"https://colab.research.google.com/github/Leigh-Hermosura/CPE-103-OOP-1-A/blob/main/CPE_103_Laboratory_No_2_2_Literals%2C_Operators%2C_and_Variables_Supplementary_Activity.ipynb\" target=\"_parent\"><img src=\"https://colab.research.google.com/assets/colab-badge.svg\" alt=\"Open In Colab\"/></a>"
      ]
    },
    {
      "cell_type": "markdown",
      "metadata": {
        "id": "xUKw6dtiGo-r"
      },
      "source": [
        "---\n",
        "<center>\n",
        "\n",
        "**University of Caloocan City**<br>\n",
        "Computer Engineering Department<br>\n",
        "Bagong Silang Campus</center>\n",
        "\n",
        "---\n",
        "<center><h4> Activity No. and Title: Literals, Operators, and Variables</h4></center>\n",
        "\n",
        "---\n",
        "<center>\n",
        "\n",
        "| Course: CPE 103 | Program: BSCpE |\n",
        "|--- | --- |\n",
        "| **Course Title**: Object Oriented Programming | **Date Performed:** February 01, 2025 |\n",
        "| **Section**: 1 - A | **Date Submitted:** February 07, 2025 |\n",
        "| **Student Name**: Hermosura, Leigh B. | **Instructor's Name:** Maria Rizette M. Sayo |\n",
        "</center>"
      ]
    },
    {
      "cell_type": "markdown",
      "source": [
        "**Objective/s of the activity:**\n",
        "\n",
        "1.  Implement literals and variables in a python program.\n",
        "\n",
        "\n",
        "**Intended Learning Outcome: at the end of this activity, students should be able to:**\n",
        "\n",
        "1.   Write a simple program implementing literals and variables.\n",
        "2.   Use comments and identify keywords from identifiers created by users.\n",
        "\n",
        "**Discussion:**\n",
        "\n",
        "The role of variables, constants, and literals in a Python program is to be able to store information in the program which allows the programmer to manipulate and manage data in order to perform certain tasks.\n",
        "\n",
        "**Materials and Equipment:**\n",
        "\n",
        "1.   Laptop\n",
        "2.   Mouse\n",
        "\n",
        "**Procedure:**\n",
        "\n",
        "1.   Input the name of the student.\n",
        "2.   Input the prelim grade and calculate the prelim class standing and total prelim grade.\n",
        "3.   Input the midterm grade and calculate the midterm class standing and total midterm grade.\n",
        "4.   Input the final grade and calculate the final class standing and total final grade.\n",
        "5.   Convert the final grade to the UCC's numerical grade system."
      ],
      "metadata": {
        "id": "gNe4D_l5JGiM"
      }
    },
    {
      "cell_type": "code",
      "source": [
        "# Final Student Grade Calculator\n",
        "\n",
        "student = input(\"\\nEnter student name: \")\n",
        "\n",
        "# Prelim\n",
        "prelimHOA = float(input(\"\\nPrelim Hands-on Activity (out of 100): \"))\n",
        "prelimQuiz = float(input(\"Prelim Quiz (out of 100): \"))\n",
        "prelimAss = float(input(\"Prelim Assignment (out of 100): \"))\n",
        "prelimExam = float(input(\"Prelim Exam Grade (out of 100): \"))\n",
        "prelimCS = (prelimHOA * 0.5) + (prelimQuiz * 0.3) + (prelimAss * 0.2)\n",
        "prelimGrade = (prelimExam * 0.5) + (prelimCS * 0.5)\n",
        "print(f\"Prelim Class Standing is: {round(prelimCS, 2)}\")\n",
        "print(f\"Prelim Grade is: {round(prelimGrade, 2)}\")\n",
        "print(\"\")\n",
        "\n",
        "# Midterm\n",
        "midtermHOA = float(input(\"Midterm Hands-on Activity (out of 100): \"))\n",
        "midtermQuiz = float(input(\"Midterm Quiz (out of 100): \"))\n",
        "midtermAss = float(input(\"Midterm Assignment (out of 100): \"))\n",
        "midtermExam = float(input(\"Midterm Exam Grade (out of 100): \"))\n",
        "midtermCS = (midtermHOA * 0.5) + (midtermQuiz * 0.3) + (midtermAss * 0.2)\n",
        "midtermCombination = (midtermExam * 0.5) + (midtermCS * 0.5)\n",
        "midtermGrade = (prelimGrade * (1/3)) + (midtermCombination * (2/3))\n",
        "print(f\"Midterm Class Standing is: {round(midtermCS, 2)}\")\n",
        "print(f\"Midterm Grade is: {round(midtermGrade, 2)}\")\n",
        "print(\"\")\n",
        "\n",
        "# Final\n",
        "finalHOA = float(input(\"Final Hands-on Activity (out of 100): \"))\n",
        "finalQuiz = float(input(\"Final Quiz (out of 100): \"))\n",
        "finalAss = float(input(\"Final Assignment (out of 100): \"))\n",
        "finalExam = float(input(\"Final Exam Grade (out of 100): \"))\n",
        "finalCS = (finalHOA * 0.5) + (finalQuiz * 0.3) + (finalAss * 0.2)\n",
        "finalCombination = (finalExam * 0.5) + (finalCS * 0.5)\n",
        "finalGrade = (midtermGrade * (1/3)) + (finalCombination * (2/3))\n",
        "print(f\"Final Class Standing is: {round(finalCS, 2)}\")\n",
        "print(f\"Final Grade is: {round(finalGrade, 2)}\")"
      ],
      "metadata": {
        "id": "WORPHnvZKBVE",
        "colab": {
          "base_uri": "https://localhost:8080/"
        },
        "outputId": "f0559213-3fc1-40c2-852b-4ef1285815b8"
      },
      "execution_count": 8,
      "outputs": [
        {
          "output_type": "stream",
          "name": "stdout",
          "text": [
            "\n",
            "Prelim Hands-on Activity (out of 100): 86\n",
            "Prelim Quiz (out of 100): 75\n",
            "Prelim Assignment (out of 100): 77\n",
            "Prelim Exam Grade (out of 100): 86\n",
            "Prelim Class Standing is: 80.9\n",
            "Prelim Grade is: 83.45\n",
            "\n",
            "Midterm Hands-on Activity (out of 100): 87\n",
            "Midterm Quiz (out of 100): 67\n",
            "Midterm Assignment (out of 100): 87\n",
            "Midterm Exam Grade (out of 100): 65\n",
            "Midterm Class Standing is: 81.0\n",
            "Midterm Grade is: 76.48\n",
            "\n",
            "Final Hands-on Activity (out of 100): 99\n",
            "Final Quiz (out of 100): 78\n",
            "Final Assignment (out of 100): 98\n",
            "Final Exam Grade (out of 100): 87\n",
            "Final Class Standing is: 92.5\n",
            "Final Grade is: 85.33\n"
          ]
        }
      ]
    },
    {
      "cell_type": "markdown",
      "source": [
        "**Supplementary Activity**:\n",
        "\n",
        "1.   Test 3 students from the program you created.\n",
        "2.   The program should show the name of the student, the PRELIM,  MIDTERM, and FINAL grades.\n",
        "3.   Convert the final grade into the UCCs numerical grade. Please refer to the grading system.\n"
      ],
      "metadata": {
        "id": "bV8A708BKFuC"
      }
    },
    {
      "cell_type": "code",
      "source": [
        "for i in range(3): # Run code 3 times\n",
        "\n",
        "  student = input(\"\\nEnter student name: \")\n",
        "\n",
        "# Prelim\n",
        "  prelimHOA = float(input(\"\\nPrelim Hands-on Activity (out of 100): \"))\n",
        "  prelimQuiz = float(input(\"Prelim Quiz (out of 100): \"))\n",
        "  prelimAss = float(input(\"Prelim Assignment (out of 100): \"))\n",
        "  prelimExam = float(input(\"Prelim Exam Grade (out of 100): \"))\n",
        "  prelimCS = (prelimHOA * 0.5) + (prelimQuiz * 0.3) + (prelimAss * 0.2)\n",
        "  prelimGrade = (prelimExam * 0.5) + (prelimCS * 0.5)\n",
        "  print(f\"Prelim Class Standing is: {round(prelimCS, 2)}\")\n",
        "  print(f\"Prelim Grade is: {round(prelimGrade, 2)}\")\n",
        "  print(\"\")\n",
        "\n",
        "# Midterm\n",
        "  midtermHOA = float(input(\"Midterm Hands-on Activity (out of 100): \"))\n",
        "  midtermQuiz = float(input(\"Midterm Quiz (out of 100): \"))\n",
        "  midtermAss = float(input(\"Midterm Assignment (out of 100): \"))\n",
        "  midtermExam = float(input(\"Midterm Exam Grade (out of 100): \"))\n",
        "  midtermCS = (midtermHOA * 0.5) + (midtermQuiz * 0.3) + (midtermAss * 0.2)\n",
        "  midtermCombination = (midtermExam * 0.5) + (midtermCS * 0.5)\n",
        "  midtermGrade = (prelimGrade * (1/3)) + (midtermCombination * (2/3))\n",
        "  print(f\"Midterm Class Standing is: {round(midtermCS, 2)}\")\n",
        "  print(f\"Midterm Grade is: {round(midtermGrade, 2)}\")\n",
        "  print(\"\")\n",
        "\n",
        "# Final\n",
        "  finalHOA = float(input(\"Final Hands-on Activity (out of 100): \"))\n",
        "  finalQuiz = float(input(\"Final Quiz (out of 100): \"))\n",
        "  finalAss = float(input(\"Final Assignment (out of 100): \"))\n",
        "  finalExam = float(input(\"Final Exam Grade (out of 100): \"))\n",
        "  finalCS = (finalHOA * 0.5) + (finalQuiz * 0.3) + (finalAss * 0.2)\n",
        "  finalCombination = (finalExam * 0.5) + (finalCS * 0.5)\n",
        "  finalGrade = (midtermGrade * (1/3)) + (finalCombination * (2/3))\n",
        "  print(f\"Final Class Standing is: {round(finalCS, 2)}\")\n",
        "  print(f\"Final Grade is: {round(finalGrade, 2)}\")\n",
        "\n",
        "# Grade conversion\n",
        "  if 99 <= finalGrade <= 100:\n",
        "    finalGrade = \"1.00\"\n",
        "  elif 96 <= finalGrade < 99:\n",
        "    finalGrade = \"1.25\"\n",
        "  elif 93 <= finalGrade < 96:\n",
        "    finalGrade = \"1.50\"\n",
        "  elif 90 <= finalGrade < 93:\n",
        "    finalGrade = \"1.75\"\n",
        "  elif 87 <= finalGrade < 90:\n",
        "    finalGrade = \"2.00\"\n",
        "  elif 84 <= finalGrade < 87:\n",
        "    finalGrade = \"2.25\"\n",
        "  elif 81 <= finalGrade < 84:\n",
        "    finalGrade = \"2.50\"\n",
        "  elif 78 <= finalGrade < 81:\n",
        "    finalGrade = \"2.75\"\n",
        "  elif 75 <= finalGrade < 78:\n",
        "    finalGrade = \"3.00\"\n",
        "  elif 72 <= finalGrade < 75:\n",
        "    finalGrade = \"4.00\"\n",
        "  elif finalGrade < 72:\n",
        "    finalGrade = \"5.00\"\n",
        "\n",
        "  print(f\"{student}'s Final grade in UCC's grading system is: {finalGrade}\")\n",
        "  print(\"\\n--------------------------\")"
      ],
      "metadata": {
        "colab": {
          "base_uri": "https://localhost:8080/"
        },
        "id": "Jxf3uQZA9X1E",
        "outputId": "3519b360-e0f4-482b-f857-25b0c8db4425"
      },
      "execution_count": 5,
      "outputs": [
        {
          "output_type": "stream",
          "name": "stdout",
          "text": [
            "\n",
            "Enter student name: Leigh Hermosura\n",
            "\n",
            "Prelim Hands-on Activity (out of 100): 76\n",
            "Prelim Quiz (out of 100): 79\n",
            "Prelim Assignment (out of 100): 77\n",
            "Prelim Exam Grade (out of 100): 80\n",
            "Prelim Class Standing is: 77.1\n",
            "Prelim Grade is: 78.55\n",
            "\n",
            "Midterm Hands-on Activity (out of 100): 87\n",
            "Midterm Quiz (out of 100): 71\n",
            "Midterm Assignment (out of 100): 69\n",
            "Midterm Exam Grade (out of 100): 71\n",
            "Midterm Class Standing is: 78.6\n",
            "Midterm Grade is: 76.05\n",
            "\n",
            "Final Hands-on Activity (out of 100): 87\n",
            "Final Quiz (out of 100): 96\n",
            "Final Assignment (out of 100): 71\n",
            "Final Exam Grade (out of 100): 72\n",
            "Final Class Standing is: 86.5\n",
            "Final Grade is: 78.18\n",
            "Leigh Hermosura's Final grade in UCC's grading system is: 2.75\n",
            "\n",
            "--------------------------\n",
            "\n",
            "Enter student name: Rhovic Gabijan\n",
            "\n",
            "Prelim Hands-on Activity (out of 100): 88\n",
            "Prelim Quiz (out of 100): 91\n",
            "Prelim Assignment (out of 100): 86\n",
            "Prelim Exam Grade (out of 100): 90\n",
            "Prelim Class Standing is: 88.5\n",
            "Prelim Grade is: 89.25\n",
            "\n",
            "Midterm Hands-on Activity (out of 100): 85\n",
            "Midterm Quiz (out of 100): 92\n",
            "Midterm Assignment (out of 100): 93\n",
            "Midterm Exam Grade (out of 100): 82\n",
            "Midterm Class Standing is: 88.7\n",
            "Midterm Grade is: 86.65\n",
            "\n",
            "Final Hands-on Activity (out of 100): 90\n",
            "Final Quiz (out of 100): 98\n",
            "Final Assignment (out of 100): 85\n",
            "Final Exam Grade (out of 100): 99\n",
            "Final Class Standing is: 91.4\n",
            "Final Grade is: 92.35\n",
            "Rhovic Gabijan's Final grade in UCC's grading system is: 1.75\n",
            "\n",
            "--------------------------\n",
            "\n",
            "Enter student name: Filjohn Delinia\n",
            "\n",
            "Prelim Hands-on Activity (out of 100): 65\n",
            "Prelim Quiz (out of 100): 75\n",
            "Prelim Assignment (out of 100): 76\n",
            "Prelim Exam Grade (out of 100): 45\n",
            "Prelim Class Standing is: 70.2\n",
            "Prelim Grade is: 57.6\n",
            "\n",
            "Midterm Hands-on Activity (out of 100): 77\n",
            "Midterm Quiz (out of 100): 86\n",
            "Midterm Assignment (out of 100): 68\n",
            "Midterm Exam Grade (out of 100): 87\n",
            "Midterm Class Standing is: 77.9\n",
            "Midterm Grade is: 74.17\n",
            "\n",
            "Final Hands-on Activity (out of 100): 98\n",
            "Final Quiz (out of 100): 76\n",
            "Final Assignment (out of 100): 89\n",
            "Final Exam Grade (out of 100): 94\n",
            "Final Class Standing is: 89.6\n",
            "Final Grade is: 85.92\n",
            "Filjohn Delinia's Final grade in UCC's grading system is: 2.25\n",
            "\n",
            "--------------------------\n"
          ]
        }
      ]
    },
    {
      "cell_type": "markdown",
      "source": [
        "\n",
        "**Questions**:\n",
        "\n",
        "1.   What is the purpose of this Python program?\n",
        "    - It aims to aid the computation of grades by automating the process in which the grades can be instantly tallied upon the user's input\n",
        "2.   How were variables and literals used in this program?\n",
        "    - The program used variables to store the student's name and numerical grade. The variables for the grades were then used to compute the final grade of the student then converting it to UCC's numerical grade system."
      ],
      "metadata": {
        "id": "0CYvOMNPKNEq"
      }
    },
    {
      "cell_type": "markdown",
      "source": [
        "**Conclusion**:\n",
        "\n",
        "The program's goal is to calculate the preliminary, midterm and final grades of students automatically upon prompting for the user's input. Variables and literals were utilized to store values like the student's name and grade. The operators were then applied to compute the inputted grades and convert the total grade into UCC's grading system."
      ],
      "metadata": {
        "id": "f8oM9wqYKuO1"
      }
    },
    {
      "cell_type": "code",
      "source": [
        "\n",
        "PHOA = float(input(\"Enter Hands-on Activity grade: \"))\n",
        "PQUIZ = float(input(\"Enter Prelim Quiz grade: \"))\n",
        "PAS = float(input(\"Enter Prelim Assignment grade: \"))\n",
        "PCS = PHOA*.5 + PQUIZ*.3 + PAS*.2\n",
        "print(\"Prelim CS is: \", PCS)\n",
        "PEX = float(input(\"Enter Prelim Exam grade: \"))\n",
        "PG = PEX*.5 + PCS*.5\n",
        "print(\"Prelim Grade is: \", \"%.2f\" % PG)\n",
        "\n"
      ],
      "metadata": {
        "colab": {
          "base_uri": "https://localhost:8080/"
        },
        "id": "NHscsOjtxAtB",
        "outputId": "639eebd7-a09e-4a1c-a055-688d174338b2"
      },
      "execution_count": 6,
      "outputs": [
        {
          "output_type": "stream",
          "name": "stdout",
          "text": [
            "Enter Hands-on Activity grade: 100\n",
            "Enter Prelim Quiz grade: 85\n",
            "Enter Prelim Assignment grade: 50\n",
            "Prelim CS is:  85.5\n",
            "Enter Prelim Exam grade: 75\n",
            "Prelim Grade is:  80.25\n"
          ]
        }
      ]
    }
  ],
  "metadata": {
    "kernelspec": {
      "display_name": "Python 3",
      "language": "python",
      "name": "python3"
    },
    "language_info": {
      "codemirror_mode": {
        "name": "ipython",
        "version": 3
      },
      "file_extension": ".py",
      "mimetype": "text/x-python",
      "name": "python",
      "nbconvert_exporter": "python",
      "pygments_lexer": "ipython3",
      "version": "3.7.3"
    },
    "colab": {
      "provenance": [],
      "include_colab_link": true
    }
  },
  "nbformat": 4,
  "nbformat_minor": 0
}