{
  "nbformat": 4,
  "nbformat_minor": 0,
  "metadata": {
    "colab": {
      "provenance": [],
      "toc_visible": true,
      "authorship_tag": "ABX9TyPncLdgZJJHL3SZgf17yItL",
      "include_colab_link": true
    },
    "kernelspec": {
      "name": "python3",
      "display_name": "Python 3"
    },
    "language_info": {
      "name": "python"
    }
  },
  "cells": [
    {
      "cell_type": "markdown",
      "metadata": {
        "id": "view-in-github",
        "colab_type": "text"
      },
      "source": [
        "<a href=\"https://colab.research.google.com/github/Leigh-Hermosura/CPE-103-OOP-1-A/blob/main/Literals_Operators_and_Variables.ipynb\" target=\"_parent\"><img src=\"https://colab.research.google.com/assets/colab-badge.svg\" alt=\"Open In Colab\"/></a>"
      ]
    },
    {
      "cell_type": "markdown",
      "source": [
        "Assigning variables of different data types in Python\n"
      ],
      "metadata": {
        "id": "-4kZrpV1lfMf"
      }
    },
    {
      "cell_type": "code",
      "source": [
        "value = 5\n",
        "print(value)\n",
        "type(value)"
      ],
      "metadata": {
        "colab": {
          "base_uri": "https://localhost:8080/"
        },
        "id": "R_4UQSGjl3P1",
        "outputId": "5c29945e-355a-4d1c-a8ea-d3faa9e0f458"
      },
      "execution_count": null,
      "outputs": [
        {
          "output_type": "stream",
          "name": "stdout",
          "text": [
            "5\n"
          ]
        },
        {
          "output_type": "execute_result",
          "data": {
            "text/plain": [
              "int"
            ]
          },
          "metadata": {},
          "execution_count": 2
        }
      ]
    },
    {
      "cell_type": "code",
      "source": [
        "value = 5.0\n",
        "print(value)\n",
        "type(value)"
      ],
      "metadata": {
        "colab": {
          "base_uri": "https://localhost:8080/"
        },
        "id": "EHdO3yW5mElU",
        "outputId": "c38509cc-e2e6-4236-f38a-c9ebb5d155bf"
      },
      "execution_count": null,
      "outputs": [
        {
          "output_type": "stream",
          "name": "stdout",
          "text": [
            "5.0\n"
          ]
        },
        {
          "output_type": "execute_result",
          "data": {
            "text/plain": [
              "float"
            ]
          },
          "metadata": {},
          "execution_count": 3
        }
      ]
    },
    {
      "cell_type": "code",
      "source": [
        "value = 2-3j\n",
        "print(value, type(value), \"\\n\")\n",
        "\n",
        "value = 'Hello World'\n",
        "print(value, type(value), \"\\n\")\n",
        "\n",
        "value = \"Hello World\"\n",
        "print(value, type(value), \"\\n\")\n",
        "\n",
        "value = True\n",
        "print(value, type(value), \"\\n\")\n",
        "\n",
        "value = False\n",
        "print(value, type(value), \"\\n\")\n",
        "\n",
        "value = [1, 2, 3, 4, 5]\n",
        "print(value, type(value), \"\\n\")\n",
        "\n",
        "value = (1, 2, 3, 4, 5)\n",
        "print(value, type(value), \"\\n\")\n",
        "\n",
        "value = { 'name' : 'Your_name' }\n",
        "print(value, type(value), \"\\n\")\n",
        "\n",
        "value = None\n",
        "print(value, type(value))"
      ],
      "metadata": {
        "colab": {
          "base_uri": "https://localhost:8080/"
        },
        "id": "ezb9h8NtmdSP",
        "outputId": "c23f6406-821b-4f62-c0bd-f938e243e410"
      },
      "execution_count": null,
      "outputs": [
        {
          "output_type": "stream",
          "name": "stdout",
          "text": [
            "(2+3j) <class 'complex'> \n",
            "\n",
            "Hello World <class 'str'> \n",
            "\n",
            "Hello World <class 'str'> \n",
            "\n",
            "True <class 'bool'> \n",
            "\n",
            "False <class 'bool'> \n",
            "\n",
            "[1, 2, 3, 4, 5] <class 'list'> \n",
            "\n",
            "(1, 2, 3, 4, 5) <class 'tuple'> \n",
            "\n",
            "{'name': 'Your_name'} <class 'dict'> \n",
            "\n",
            "None <class 'NoneType'>\n"
          ]
        }
      ]
    },
    {
      "cell_type": "markdown",
      "source": [
        "Performing Operations with Python"
      ],
      "metadata": {
        "id": "UEMeZQZMp8h-"
      }
    },
    {
      "cell_type": "code",
      "source": [
        "#Addition\n",
        "value, value2 = 5, -6\n",
        "print(value + value2)\n",
        "\n",
        "value, value2 = 5.0, 6\n",
        "print(value + value2)\n",
        "\n",
        "value, value2 = -5, 6.1\n",
        "print(value + value2)\n",
        "\n",
        "value, value2 = \"Hello \", 'World'\n",
        "print(value + value2)\n",
        "\n",
        "value, value2 = [1, 2, 3], [4, 5, 6]\n",
        "print(value + value2)\n",
        "\n",
        "value, value2 = (1, 2, 3), (4, 5, 6)\n",
        "print(value + value2)\n",
        "\n",
        "value, value2 = { \"name\" : \"Royce\" }, { \"age\" : 2 }\n",
        "print(value + value2)\n",
        "\n",
        "\n",
        "#Subtraction\n",
        "value, value2 = 5, -6\n",
        "print(value - value2)\n",
        "\n",
        "value, value2 = 5.0, 6\n",
        "print(value - value2)\n",
        "\n",
        "value, value2 = -5, 6.1\n",
        "print(value - value2)\n",
        "\n",
        "value, value2 = \"Hello \", 'World'\n",
        "print(value - value2)\n",
        "\n",
        "value, value2 = [1, 2, 3], [4, 5, 6]\n",
        "print(value - value2)\n",
        "\n",
        "value, value2 = (1, 2, 3), (4, 5, 6)\n",
        "print(value - value2)\n",
        "\n",
        "value, value2 = { \"name\" : \"Royce\" }, { \"age\" : 2 }\n",
        "print(value - value2)"
      ],
      "metadata": {
        "colab": {
          "base_uri": "https://localhost:8080/",
          "height": 367
        },
        "id": "TbabiQXJqA0k",
        "outputId": "8295acc0-d2c6-4dd7-8cfc-9e97549bee68"
      },
      "execution_count": null,
      "outputs": [
        {
          "output_type": "stream",
          "name": "stdout",
          "text": [
            "-1\n",
            "11.0\n",
            "1.0999999999999996\n",
            "Hello World\n",
            "[1, 2, 3, 4, 5, 6]\n",
            "(1, 2, 3, 4, 5, 6)\n",
            "11\n",
            "-1.0\n",
            "-11.1\n"
          ]
        },
        {
          "output_type": "error",
          "ename": "TypeError",
          "evalue": "unsupported operand type(s) for -: 'str' and 'str'",
          "traceback": [
            "\u001b[0;31m---------------------------------------------------------------------------\u001b[0m",
            "\u001b[0;31mTypeError\u001b[0m                                 Traceback (most recent call last)",
            "\u001b[0;32m<ipython-input-22-816d2eb42cc2>\u001b[0m in \u001b[0;36m<cell line: 0>\u001b[0;34m()\u001b[0m\n\u001b[1;32m     32\u001b[0m \u001b[0;34m\u001b[0m\u001b[0m\n\u001b[1;32m     33\u001b[0m \u001b[0mvalue\u001b[0m\u001b[0;34m,\u001b[0m \u001b[0mvalue2\u001b[0m \u001b[0;34m=\u001b[0m \u001b[0;34m\"Hello \"\u001b[0m\u001b[0;34m,\u001b[0m \u001b[0;34m'World'\u001b[0m\u001b[0;34m\u001b[0m\u001b[0;34m\u001b[0m\u001b[0m\n\u001b[0;32m---> 34\u001b[0;31m \u001b[0mprint\u001b[0m\u001b[0;34m(\u001b[0m\u001b[0mvalue\u001b[0m \u001b[0;34m-\u001b[0m \u001b[0mvalue2\u001b[0m\u001b[0;34m)\u001b[0m\u001b[0;34m\u001b[0m\u001b[0;34m\u001b[0m\u001b[0m\n\u001b[0m\u001b[1;32m     35\u001b[0m \u001b[0;34m\u001b[0m\u001b[0m\n\u001b[1;32m     36\u001b[0m \u001b[0mvalue\u001b[0m\u001b[0;34m,\u001b[0m \u001b[0mvalue2\u001b[0m \u001b[0;34m=\u001b[0m \u001b[0;34m[\u001b[0m\u001b[0;36m1\u001b[0m\u001b[0;34m,\u001b[0m \u001b[0;36m2\u001b[0m\u001b[0;34m,\u001b[0m \u001b[0;36m3\u001b[0m\u001b[0;34m]\u001b[0m\u001b[0;34m,\u001b[0m \u001b[0;34m[\u001b[0m\u001b[0;36m4\u001b[0m\u001b[0;34m,\u001b[0m \u001b[0;36m5\u001b[0m\u001b[0;34m,\u001b[0m \u001b[0;36m6\u001b[0m\u001b[0;34m]\u001b[0m\u001b[0;34m\u001b[0m\u001b[0;34m\u001b[0m\u001b[0m\n",
            "\u001b[0;31mTypeError\u001b[0m: unsupported operand type(s) for -: 'str' and 'str'"
          ]
        }
      ]
    },
    {
      "cell_type": "code",
      "source": [
        "value, value2 = 30, 4\n",
        "\n",
        "print(value*value2)\n",
        "\n",
        "print(value2**2)\n",
        "\n",
        "print(value2**3)\n",
        "\n",
        "print(value*value2+value2**2+1)\n",
        "\n",
        "print(value/value2)\n",
        "\n",
        "print(value%value2)"
      ],
      "metadata": {
        "colab": {
          "base_uri": "https://localhost:8080/"
        },
        "id": "51FMEBICsX1s",
        "outputId": "4b278755-033c-441c-dba6-f7c4f2011cad"
      },
      "execution_count": null,
      "outputs": [
        {
          "output_type": "stream",
          "name": "stdout",
          "text": [
            "120\n",
            "16\n",
            "64\n",
            "137\n",
            "7.5\n",
            "2\n"
          ]
        }
      ]
    },
    {
      "cell_type": "markdown",
      "source": [
        "Assigning Input Data to a Variable"
      ],
      "metadata": {
        "id": "PT6idIDms0dF"
      }
    },
    {
      "cell_type": "code",
      "source": [
        "name = input(\"Enter your name \")\n",
        "\n",
        "weight = float(input(\"Enter your weight(kg): \"))\n",
        "\n",
        "height = float(input(\"Enter your height(m): \"))\n",
        "\n",
        "bmi = weight/height**2\n",
        "\n",
        "print(f\"BMI = {round(bmi, 4)}\\n\")\n",
        "\n",
        "feet = height * 3.2808399\n",
        "\n",
        "print(f\"Guide: {round(feet, 1)} feet ~ {height} m\")\n"
      ],
      "metadata": {
        "colab": {
          "base_uri": "https://localhost:8080/"
        },
        "id": "Og5VNoafs3KO",
        "outputId": "66f1f84a-7aa6-4821-e987-d6080a149618"
      },
      "execution_count": null,
      "outputs": [
        {
          "output_type": "stream",
          "name": "stdout",
          "text": [
            "Enter your name John Ray\n",
            "Enter your weight(kg): 60\n",
            "Enter your height(m): 1.6764\n",
            "BMI = 21.3499\n",
            "\n",
            "Guide: 5.5 feet ~ 1.6764 m\n"
          ]
        }
      ]
    },
    {
      "cell_type": "markdown",
      "source": [
        "6. Supplementary Activity:\n",
        "Tasks\n",
        "\n",
        "\n",
        "1.   Write the Python equivalent code of the following C code:\n",
        "\n",
        "2.   Write a program that would convert Celsious to Fahrenheit given the formula: F = (C×9/5) + 32\n",
        "\n",
        "3. Write a program that can determine the distance between two points given the coordinates using the formula: d = sqrt(x2-x1)^2 + (y2-y1)^2"
      ],
      "metadata": {
        "id": "GfzFWh4gvqs0"
      }
    },
    {
      "cell_type": "code",
      "execution_count": null,
      "metadata": {
        "colab": {
          "base_uri": "https://localhost:8080/"
        },
        "id": "8acy2qKHzVnN",
        "outputId": "c0fd420b-59a5-44bc-d101-16633611b299"
      },
      "outputs": [
        {
          "output_type": "stream",
          "name": "stdout",
          "text": [
            "Enter the base of the triangle: 4\n",
            "Enter the height of the triangle: 7\n",
            "The area of the triangle is 14.0\n"
          ]
        }
      ],
      "source": [
        "# 1. Write the Python equivalent of code in the following C code:\n",
        "base = 0\n",
        "height = 0\n",
        "area = 0\n",
        "base = float(input(\"Enter the base of the triangle: \"))\n",
        "height = float(input(\"Enter the height of the triangle: \"))\n",
        "area = (1/2)*base*height\n",
        "print(\"The area of the triangle is\", round(area, 2))"
      ]
    },
    {
      "cell_type": "code",
      "source": [
        "# 2. Write a program that would convert Celsius to Fahrenheit given the formula: F = (C × 9/5) + 32\n",
        "for i in range(2):\n",
        "  c = int(input(\"Enter degrees in Celcius: \"))\n",
        "  f = (c * 9/5) + 32\n",
        "  f = int(f)\n",
        "  print(f\"{c}°C = {f}°F\")\n",
        "  print(\"\")"
      ],
      "metadata": {
        "colab": {
          "base_uri": "https://localhost:8080/"
        },
        "id": "ivH6gRQ91TNu",
        "outputId": "6f737108-a1d5-4d68-ed9c-9d05c6c7f373"
      },
      "execution_count": null,
      "outputs": [
        {
          "output_type": "stream",
          "name": "stdout",
          "text": [
            "Enter degrees in Celcius: 0\n",
            "0°C = 32°F\n",
            "\n",
            "Enter degrees in Celcius: -20\n",
            "-20°C = -4°F\n",
            "\n"
          ]
        }
      ]
    },
    {
      "cell_type": "code",
      "source": [
        "# 3. 3.\tWrite a program that can determine the distance between\n",
        "# two points given the coordinates using the formula: d = sqrt(x2-x1)^2 + (y2-y1)^2\n",
        "x1 = float(input(\"Enter values for (x1, y1): \\nx1 = \"))\n",
        "y1 = float(input(\"y1 = \"))\n",
        "\n",
        "x2 = float(input(\"\\nEnter values for (x2, y2): \\nx2 = \"))\n",
        "y2 = float(input(\"y2 = \"))\n",
        "\n",
        "d = (((x2 - x1)**2) + ((y2 - y1)**2))**0.5\n",
        "\n",
        "print(f\"\\nx1, y1 = ({int(x1)}, {int(y1)}) and x2, y2 = ({int(x2)}, {int(y2)})\\nd = {round(d, 9)}\")"
      ],
      "metadata": {
        "colab": {
          "base_uri": "https://localhost:8080/"
        },
        "id": "LtC8NiPj2n-V",
        "outputId": "32a73f51-09dd-43ed-c1b3-d9fe92b4cc9f"
      },
      "execution_count": null,
      "outputs": [
        {
          "output_type": "stream",
          "name": "stdout",
          "text": [
            "Enter values for (x1, y1): \n",
            "x1 = -3\n",
            "y1 = 3\n",
            "\n",
            "Enter values for (x2, y2): \n",
            "x2 = 2\n",
            "y2 = 2\n",
            "\n",
            "x1, y1 = (-3, 3) and x2, y2 = (2, 2)\n",
            "d = 5.099019514\n"
          ]
        }
      ]
    },
    {
      "cell_type": "code",
      "source": [
        "\n",
        "a = 2**5\n",
        "\n",
        "print(a)"
      ],
      "metadata": {
        "colab": {
          "base_uri": "https://localhost:8080/"
        },
        "id": "OjDN5mETEjot",
        "outputId": "dc57aa89-d533-4c34-abaa-6e3c5ea79429"
      },
      "execution_count": null,
      "outputs": [
        {
          "output_type": "stream",
          "name": "stdout",
          "text": [
            "32\n"
          ]
        }
      ]
    }
  ]
}